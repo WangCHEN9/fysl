{
 "cells": [
  {
   "cell_type": "code",
   "execution_count": 1,
   "id": "38208aa8",
   "metadata": {},
   "outputs": [
    {
     "ename": "NameError",
     "evalue": "name 'matplotlib' is not defined",
     "output_type": "error",
     "traceback": [
      "\u001b[1;31m---------------------------------------------------------------------------\u001b[0m",
      "\u001b[1;31mNameError\u001b[0m                                 Traceback (most recent call last)",
      "\u001b[1;32mC:\\Users\\WANGCH~1\\AppData\\Local\\Temp/ipykernel_17288/3872488392.py\u001b[0m in \u001b[0;36m<module>\u001b[1;34m\u001b[0m\n\u001b[0;32m      4\u001b[0m \u001b[1;32mfrom\u001b[0m \u001b[0mpylab\u001b[0m \u001b[1;32mimport\u001b[0m \u001b[0mmpl\u001b[0m\u001b[1;33m\u001b[0m\u001b[1;33m\u001b[0m\u001b[0m\n\u001b[0;32m      5\u001b[0m \u001b[1;32mimport\u001b[0m \u001b[0mmatplotlib\u001b[0m\u001b[1;33m.\u001b[0m\u001b[0mpyplot\u001b[0m \u001b[1;32mas\u001b[0m \u001b[0mplt\u001b[0m\u001b[1;33m\u001b[0m\u001b[1;33m\u001b[0m\u001b[0m\n\u001b[1;32m----> 6\u001b[1;33m \u001b[0mmatplotlib\u001b[0m\u001b[1;33m.\u001b[0m\u001b[0muse\u001b[0m\u001b[1;33m(\u001b[0m\u001b[1;34m'TkAgg'\u001b[0m\u001b[1;33m)\u001b[0m\u001b[1;33m\u001b[0m\u001b[1;33m\u001b[0m\u001b[0m\n\u001b[0m\u001b[0;32m      7\u001b[0m \u001b[1;33m\u001b[0m\u001b[0m\n\u001b[0;32m      8\u001b[0m \u001b[0mmpl\u001b[0m\u001b[1;33m.\u001b[0m\u001b[0mrcParams\u001b[0m\u001b[1;33m[\u001b[0m\u001b[1;34m'font.sans-serif'\u001b[0m\u001b[1;33m]\u001b[0m \u001b[1;33m=\u001b[0m \u001b[1;33m[\u001b[0m\u001b[1;34m'FangSong'\u001b[0m\u001b[1;33m]\u001b[0m\u001b[1;33m\u001b[0m\u001b[1;33m\u001b[0m\u001b[0m\n",
      "\u001b[1;31mNameError\u001b[0m: name 'matplotlib' is not defined"
     ]
    }
   ],
   "source": [
    "import pandas as pd\n",
    "import seaborn as sns\n",
    "from pathlib import Path\n",
    "from pylab import mpl\n",
    "import matplotlib.pyplot as plt\n",
    "matplotlib.use('TkAgg')\n",
    "\n",
    "mpl.rcParams['font.sans-serif'] = ['FangSong']\n",
    "# mpl.rcParams['axes.unicode_minus'] = False\n",
    "pd.set_option('display.max_columns', 70)"
   ]
  },
  {
   "cell_type": "code",
   "execution_count": 40,
   "id": "c38bb73e",
   "metadata": {},
   "outputs": [],
   "source": [
    "excel_path = Path(r'./data/alorsfaim_82102_-_.xlsx')\n",
    "\n",
    "df = pd.read_excel(excel_path, sheet_name='data')"
   ]
  },
  {
   "cell_type": "code",
   "execution_count": 41,
   "id": "656fe2e3",
   "metadata": {
    "scrolled": true
   },
   "outputs": [
    {
     "name": "stdout",
     "output_type": "stream",
     "text": [
      "<class 'pandas.core.frame.DataFrame'>\n",
      "RangeIndex: 8973 entries, 0 to 8972\n",
      "Data columns (total 52 columns):\n",
      " #   Column     Non-Null Count  Dtype         \n",
      "---  ------     --------------  -----         \n",
      " 0   订单号        8973 non-null   object        \n",
      " 1   订单id       8973 non-null   object        \n",
      " 2   下单时间       8973 non-null   datetime64[ns]\n",
      " 3   time text  8973 non-null   object        \n",
      " 4   time       8973 non-null   object        \n",
      " 5   15点        8973 non-null   object        \n",
      " 6   新单日期       8973 non-null   datetime64[ns]\n",
      " 7   餐馆接受时间     7558 non-null   object        \n",
      " 8   派单时间       4 non-null      object        \n",
      " 9   餐馆预计出餐时间   5 non-null      object        \n",
      " 10  餐馆实际出餐时间   0 non-null      float64       \n",
      " 11  骑手接受时间     2 non-null      object        \n",
      " 12  骑手接受距离     2 non-null      float64       \n",
      " 13  骑手到达餐厅时间   2 non-null      object        \n",
      " 14  取餐时间       5566 non-null   object        \n",
      " 15  骑手到达客人时间   4944 non-null   object        \n",
      " 16  送达时间       7356 non-null   object        \n",
      " 17  客人要求送达时间   8973 non-null   object        \n",
      " 18  店铺         8973 non-null   object        \n",
      " 19  店铺ID       8973 non-null   object        \n",
      " 20  店铺类别       8973 non-null   object        \n",
      " 21  菜价         8973 non-null   float64       \n",
      " 22  提成率        8973 non-null   float64       \n",
      " 23  运费         8973 non-null   float64       \n",
      " 24  改地址补偿运费    3 non-null      float64       \n",
      " 25  总价         8973 non-null   float64       \n",
      " 26  客户退款金额     1648 non-null   float64       \n",
      " 27  配送员        5606 non-null   object        \n",
      " 28  配送员ID      5606 non-null   object        \n",
      " 29  预计时间       0 non-null      float64       \n",
      " 30  配送公司       5606 non-null   object        \n",
      " 31  配送起始地      8973 non-null   object        \n",
      " 32  配送目的地      8973 non-null   int64         \n",
      " 33  配送方位       8973 non-null   object        \n",
      " 34  配送日期       8973 non-null   object        \n",
      " 35  配送距离       8973 non-null   float64       \n",
      " 36  送货方式       8973 non-null   object        \n",
      " 37  配送成本       8973 non-null   float64       \n",
      " 38  增加派送成本     8973 non-null   int64         \n",
      " 39  理货员        6724 non-null   object        \n",
      " 40  理货开始时间     6724 non-null   object        \n",
      " 41  理货完成时间     6717 non-null   object        \n",
      " 42  支付方式       8973 non-null   object        \n",
      " 43  下单渠道       8973 non-null   object        \n",
      " 44  下单区域       8864 non-null   object        \n",
      " 45  状态         8973 non-null   object        \n",
      " 46  配送方式       8973 non-null   object        \n",
      " 47  赔付折扣       8973 non-null   int64         \n",
      " 48  优惠折扣码1     5216 non-null   object        \n",
      " 49  优惠券类型1     5216 non-null   object        \n",
      " 50  商家成本1      2 non-null      float64       \n",
      " 51  平台成本1      5169 non-null   float64       \n",
      "dtypes: datetime64[ns](2), float64(13), int64(3), object(34)\n",
      "memory usage: 3.6+ MB\n"
     ]
    }
   ],
   "source": [
    "df.info()"
   ]
  },
  {
   "cell_type": "code",
   "execution_count": 42,
   "id": "aec78b03",
   "metadata": {},
   "outputs": [
    {
     "data": {
      "text/plain": [
       "Index(['订单号', '订单id', '下单时间', 'time text', 'time', '15点', '新单日期', '餐馆接受时间',\n",
       "       '派单时间', '餐馆预计出餐时间', '餐馆实际出餐时间', '骑手接受时间', '骑手接受距离', '骑手到达餐厅时间', '取餐时间',\n",
       "       '骑手到达客人时间', '送达时间', '客人要求送达时间', '店铺', '店铺ID', '店铺类别', '菜价', '提成率', '运费',\n",
       "       '改地址补偿运费', '总价', '客户退款金额', '配送员', '配送员ID', '预计时间', '配送公司', '配送起始地',\n",
       "       '配送目的地', '配送方位', '配送日期', '配送距离', '送货方式', '配送成本', '增加派送成本', '理货员',\n",
       "       '理货开始时间', '理货完成时间', '支付方式', '下单渠道', '下单区域', '状态', '配送方式', '赔付折扣',\n",
       "       '优惠折扣码1', '优惠券类型1', '商家成本1', '平台成本1'],\n",
       "      dtype='object')"
      ]
     },
     "execution_count": 42,
     "metadata": {},
     "output_type": "execute_result"
    }
   ],
   "source": [
    "df.columns"
   ]
  },
  {
   "cell_type": "code",
   "execution_count": 43,
   "id": "6cfcc6ce",
   "metadata": {},
   "outputs": [],
   "source": [
    "df2 = df.loc[df['状态'].isin(['done', 'preparing', 'created', 'shipping', 'paymentPending'])]"
   ]
  },
  {
   "cell_type": "code",
   "execution_count": 44,
   "id": "0e695d8a",
   "metadata": {},
   "outputs": [],
   "source": [
    "df3 = df2.dropna(axis=0, subset=['菜价','下单区域','配送成本'],how='any')"
   ]
  },
  {
   "cell_type": "code",
   "execution_count": 49,
   "id": "e0572a1e",
   "metadata": {},
   "outputs": [
    {
     "data": {
      "text/plain": [
       "<AxesSubplot:>"
      ]
     },
     "execution_count": 49,
     "metadata": {},
     "output_type": "execute_result"
    }
   ],
   "source": [
    "df3['菜价'].plot()"
   ]
  },
  {
   "cell_type": "code",
   "execution_count": 50,
   "id": "e92f3e35",
   "metadata": {},
   "outputs": [],
   "source": [
    "ax = sns.relplot(data = df3,\n",
    "                 x='菜价',y='下单区域', \n",
    "                 hue ='配送成本', \n",
    "#                  style ='Effort_maxi_after_rework',\n",
    "#                  style = 'NOK_TYPOLOGY',\n",
    "#                  size='maxi_effort',size_order= (1.0,0.0),\n",
    "                 kind='scatter',alpha=0.75, palette=\"plasma\")"
   ]
  }
 ],
 "metadata": {
  "kernelspec": {
   "display_name": "Python [conda env:ws]",
   "language": "python",
   "name": "conda-env-ws-py"
  },
  "language_info": {
   "codemirror_mode": {
    "name": "ipython",
    "version": 3
   },
   "file_extension": ".py",
   "mimetype": "text/x-python",
   "name": "python",
   "nbconvert_exporter": "python",
   "pygments_lexer": "ipython3",
   "version": "3.8.11"
  }
 },
 "nbformat": 4,
 "nbformat_minor": 5
}
